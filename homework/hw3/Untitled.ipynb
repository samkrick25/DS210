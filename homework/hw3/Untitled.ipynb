{
 "cells": [
  {
   "cell_type": "code",
   "execution_count": 2,
   "id": "784d0339-7486-435f-8cdc-5533b40f7a05",
   "metadata": {
    "tags": []
   },
   "outputs": [
    {
     "name": "stdout",
     "output_type": "stream",
     "text": [
      "The max profit is 449.00 and can be achieved by producing:\n",
      "* Apple Pie: 50.00 pieces\n",
      "* Croissant: 0.00 pieces\n",
      "* Poppy seed roll: 50.00 pieces\n"
     ]
    }
   ],
   "source": [
    "import pandas as pd\n",
    "import numpy as np\n",
    "from scipy.optimize import linprog\n",
    "\n",
    "# Step 1: Read available amounts of ingredients\n",
    "ingredients_df = pd.read_csv('ingredientslist.csv')\n",
    "ingredients = ingredients_df.iloc[0].to_numpy()\n",
    "\n",
    "# Step 2: Read the list of goods the bakery can produce\n",
    "goods_df = pd.read_csv('goodslist.csv')\n",
    "\n",
    "# Extract prices and ingredient requirements\n",
    "prices = goods_df['Price'].to_numpy()\n",
    "requirements = goods_df[['Yeast', 'Flour', 'Sugar']].to_numpy()\n",
    "\n",
    "# Step 3: Formulate the linear programming problem\n",
    "cost = -prices  # Negate prices for maximization\n",
    "A_ub = requirements.T  # Transpose of requirements for inequality constraints\n",
    "b_ub = ingredients  # Available ingredients as upper bounds\n",
    "bounds = [(0, None) for _ in range(len(prices))]  # Non-negative quantities\n",
    "\n",
    "# Step 4: Solve the linear programming problem\n",
    "solution = linprog(cost, A_ub=A_ub, b_ub=b_ub, bounds=bounds)\n",
    "\n",
    "# Step 5: Output the total profit and quantities of each pastry\n",
    "if solution.success:\n",
    "    max_profit = -solution.fun  # Negate back to get the maximum profit\n",
    "    quantities = solution.x\n",
    "    pastry_names = goods_df['Name'].to_numpy()\n",
    "    \n",
    "    print(f\"The max profit is {max_profit:.2f} and can be achieved by producing:\")\n",
    "    for pastry_name, quantity in zip(pastry_names, quantities):\n",
    "        print(f\"* {pastry_name}: {quantity:.2f} pieces\")\n",
    "else:\n",
    "    print(\"Failed to find a solution.\")"
   ]
  },
  {
   "cell_type": "code",
   "execution_count": 3,
   "id": "356bd64e-40f4-4336-b0d6-e1d1958ae75a",
   "metadata": {
    "tags": []
   },
   "outputs": [
    {
     "data": {
      "text/plain": [
       "(array([[0.  , 0.5 , 1.15],\n",
       "        [0.75, 1.5 , 1.5 ],\n",
       "        [1.5 , 0.25, 0.75]]),\n",
       " array([ 57.5, 112.5, 245. ]),\n",
       " array([-2.99, -2.5 , -5.99]))"
      ]
     },
     "execution_count": 3,
     "metadata": {},
     "output_type": "execute_result"
    }
   ],
   "source": [
    "A_ub, b_ub, cost"
   ]
  },
  {
   "cell_type": "code",
   "execution_count": null,
   "id": "7620e6af-a344-453c-a12c-add33c089b8b",
   "metadata": {},
   "outputs": [],
   "source": []
  }
 ],
 "metadata": {
  "kernelspec": {
   "display_name": "Python 3 (ipykernel)",
   "language": "python",
   "name": "python3"
  },
  "language_info": {
   "codemirror_mode": {
    "name": "ipython",
    "version": 3
   },
   "file_extension": ".py",
   "mimetype": "text/x-python",
   "name": "python",
   "nbconvert_exporter": "python",
   "pygments_lexer": "ipython3",
   "version": "3.11.5"
  }
 },
 "nbformat": 4,
 "nbformat_minor": 5
}
