{
 "cells": [
  {
   "cell_type": "markdown",
   "id": "ea822617-c449-43d9-9bf6-8298db188c9a",
   "metadata": {},
   "source": [
    "# Question 1"
   ]
  },
  {
   "cell_type": "markdown",
   "id": "4bcbc5bd-032d-4dd5-a1d6-4f2a217b9294",
   "metadata": {},
   "source": [
    "#### a."
   ]
  },
  {
   "cell_type": "code",
   "execution_count": 69,
   "id": "3b12fe4e-0b19-44df-a2e0-93018e2b48b9",
   "metadata": {
    "tags": []
   },
   "outputs": [
    {
     "data": {
      "text/html": [
       "<div>\n",
       "<style scoped>\n",
       "    .dataframe tbody tr th:only-of-type {\n",
       "        vertical-align: middle;\n",
       "    }\n",
       "\n",
       "    .dataframe tbody tr th {\n",
       "        vertical-align: top;\n",
       "    }\n",
       "\n",
       "    .dataframe thead th {\n",
       "        text-align: right;\n",
       "    }\n",
       "</style>\n",
       "<table border=\"1\" class=\"dataframe\">\n",
       "  <thead>\n",
       "    <tr style=\"text-align: right;\">\n",
       "      <th></th>\n",
       "      <th>A</th>\n",
       "      <th>B</th>\n",
       "      <th>C</th>\n",
       "    </tr>\n",
       "  </thead>\n",
       "  <tbody>\n",
       "    <tr>\n",
       "      <th>0</th>\n",
       "      <td>a</td>\n",
       "      <td>9</td>\n",
       "      <td>h</td>\n",
       "    </tr>\n",
       "    <tr>\n",
       "      <th>1</th>\n",
       "      <td>b</td>\n",
       "      <td>8</td>\n",
       "      <td>i</td>\n",
       "    </tr>\n",
       "    <tr>\n",
       "      <th>2</th>\n",
       "      <td>c</td>\n",
       "      <td>7</td>\n",
       "      <td>j</td>\n",
       "    </tr>\n",
       "    <tr>\n",
       "      <th>3</th>\n",
       "      <td>d</td>\n",
       "      <td>6</td>\n",
       "      <td>k</td>\n",
       "    </tr>\n",
       "    <tr>\n",
       "      <th>4</th>\n",
       "      <td>e</td>\n",
       "      <td>5</td>\n",
       "      <td>l</td>\n",
       "    </tr>\n",
       "  </tbody>\n",
       "</table>\n",
       "</div>"
      ],
      "text/plain": [
       "   A  B  C\n",
       "0  a  9  h\n",
       "1  b  8  i\n",
       "2  c  7  j\n",
       "3  d  6  k\n",
       "4  e  5  l"
      ]
     },
     "execution_count": 69,
     "metadata": {},
     "output_type": "execute_result"
    }
   ],
   "source": [
    "import pandas as pd\n",
    "import random as rd\n",
    "randdf= pd.DataFrame({'A':['a','b','c','d','e'],'B':[9,8,7,6,5],'C':['h','i','j','k','l']}, index=[0,1,2,3,4])\n",
    "randdf"
   ]
  },
  {
   "cell_type": "code",
   "execution_count": 70,
   "id": "9740a62c-32b2-477e-96f4-8f202d156260",
   "metadata": {
    "tags": []
   },
   "outputs": [
    {
     "data": {
      "text/plain": [
       "[9, 'c', 'h', 8, 'b']"
      ]
     },
     "execution_count": 70,
     "metadata": {},
     "output_type": "execute_result"
    }
   ],
   "source": [
    "def sample_wo_rep(data, n=None):\n",
    "    if n is not None and not isinstance(n, int):\n",
    "        raise TypeError('number of samples has to be int or None')\n",
    "    samples = []\n",
    "    stacked = data.stack()  #turn my dataframe into a series so I can create a list for sample to work on\n",
    "    datalist = stacked.values.tolist()\n",
    "    randlen = len(datalist)\n",
    "    if n is None:\n",
    "        rng = rd.randint(1, randlen)\n",
    "        samples += rd.sample(datalist, rng)\n",
    "    if isinstance(n, int):\n",
    "        samples += rd.sample(datalist, n)\n",
    "    return samples\n",
    "sampleddf = sample_wo_rep(randdf)\n",
    "sampleddf"
   ]
  },
  {
   "cell_type": "markdown",
   "id": "e8aa96ac-0016-49d4-afc4-aa0361cee7e1",
   "metadata": {},
   "source": [
    "#### b."
   ]
  },
  {
   "cell_type": "code",
   "execution_count": 71,
   "id": "3e7ea23f-2c69-4c35-bbbe-10d2fa4fd0f6",
   "metadata": {
    "tags": []
   },
   "outputs": [
    {
     "data": {
      "text/plain": [
       "18"
      ]
     },
     "execution_count": 71,
     "metadata": {},
     "output_type": "execute_result"
    }
   ],
   "source": [
    "cars = pd.DataFrame({'cars':['Fiat 500','Toyota Supra','Volkswagon Golf','Nissan GTR','Lamborghini Aventador','Nissan Quest','Toyota Prius','Rolls Royce Phantom', \n",
    "        'Smart Car','Volkswagon Beetle','Honda Accord','Toyota Tacoma','Subaru Outback','Ford Fiesta','Nissan Cube','Kia Soul','Toyota Camry',\n",
    "        'Oscar Mayer Weinermobile']})\n",
    "\n",
    "len(cars)"
   ]
  },
  {
   "cell_type": "code",
   "execution_count": 72,
   "id": "ea49189c-1583-46b9-9c1b-5274ff2b797d",
   "metadata": {
    "tags": []
   },
   "outputs": [
    {
     "data": {
      "text/html": [
       "<div>\n",
       "<style scoped>\n",
       "    .dataframe tbody tr th:only-of-type {\n",
       "        vertical-align: middle;\n",
       "    }\n",
       "\n",
       "    .dataframe tbody tr th {\n",
       "        vertical-align: top;\n",
       "    }\n",
       "\n",
       "    .dataframe thead th {\n",
       "        text-align: right;\n",
       "    }\n",
       "</style>\n",
       "<table border=\"1\" class=\"dataframe\">\n",
       "  <thead>\n",
       "    <tr style=\"text-align: right;\">\n",
       "      <th></th>\n",
       "      <th>Name</th>\n",
       "      <th>MPG</th>\n",
       "    </tr>\n",
       "  </thead>\n",
       "  <tbody>\n",
       "    <tr>\n",
       "      <th>0</th>\n",
       "      <td>Toyota Supra</td>\n",
       "      <td>37</td>\n",
       "    </tr>\n",
       "    <tr>\n",
       "      <th>1</th>\n",
       "      <td>Fiat 500</td>\n",
       "      <td>20</td>\n",
       "    </tr>\n",
       "    <tr>\n",
       "      <th>2</th>\n",
       "      <td>Volkswagon Beetle</td>\n",
       "      <td>46</td>\n",
       "    </tr>\n",
       "    <tr>\n",
       "      <th>3</th>\n",
       "      <td>Kia Soul</td>\n",
       "      <td>44</td>\n",
       "    </tr>\n",
       "    <tr>\n",
       "      <th>4</th>\n",
       "      <td>Toyota Camry</td>\n",
       "      <td>11</td>\n",
       "    </tr>\n",
       "    <tr>\n",
       "      <th>5</th>\n",
       "      <td>Nissan Quest</td>\n",
       "      <td>48</td>\n",
       "    </tr>\n",
       "    <tr>\n",
       "      <th>6</th>\n",
       "      <td>Subaru Outback</td>\n",
       "      <td>6</td>\n",
       "    </tr>\n",
       "    <tr>\n",
       "      <th>7</th>\n",
       "      <td>Smart Car</td>\n",
       "      <td>27</td>\n",
       "    </tr>\n",
       "    <tr>\n",
       "      <th>8</th>\n",
       "      <td>Toyota Prius</td>\n",
       "      <td>7</td>\n",
       "    </tr>\n",
       "    <tr>\n",
       "      <th>9</th>\n",
       "      <td>Nissan GTR</td>\n",
       "      <td>47</td>\n",
       "    </tr>\n",
       "  </tbody>\n",
       "</table>\n",
       "</div>"
      ],
      "text/plain": [
       "                Name  MPG\n",
       "0       Toyota Supra   37\n",
       "1           Fiat 500   20\n",
       "2  Volkswagon Beetle   46\n",
       "3           Kia Soul   44\n",
       "4       Toyota Camry   11\n",
       "5       Nissan Quest   48\n",
       "6     Subaru Outback    6\n",
       "7          Smart Car   27\n",
       "8       Toyota Prius    7\n",
       "9         Nissan GTR   47"
      ]
     },
     "execution_count": 72,
     "metadata": {},
     "output_type": "execute_result"
    }
   ],
   "source": [
    "df1 = pd.DataFrame({'Name':sample_wo_rep(cars, 10),'MPG':rd.sample(range(5,50), 10)})\n",
    "df1"
   ]
  },
  {
   "cell_type": "code",
   "execution_count": 73,
   "id": "9b8ad59c-afb1-425e-9498-6098661b244f",
   "metadata": {
    "tags": []
   },
   "outputs": [
    {
     "data": {
      "text/html": [
       "<div>\n",
       "<style scoped>\n",
       "    .dataframe tbody tr th:only-of-type {\n",
       "        vertical-align: middle;\n",
       "    }\n",
       "\n",
       "    .dataframe tbody tr th {\n",
       "        vertical-align: top;\n",
       "    }\n",
       "\n",
       "    .dataframe thead th {\n",
       "        text-align: right;\n",
       "    }\n",
       "</style>\n",
       "<table border=\"1\" class=\"dataframe\">\n",
       "  <thead>\n",
       "    <tr style=\"text-align: right;\">\n",
       "      <th></th>\n",
       "      <th>Name</th>\n",
       "      <th>SecondsTo60</th>\n",
       "    </tr>\n",
       "  </thead>\n",
       "  <tbody>\n",
       "    <tr>\n",
       "      <th>0</th>\n",
       "      <td>Oscar Mayer Weinermobile</td>\n",
       "      <td>4</td>\n",
       "    </tr>\n",
       "    <tr>\n",
       "      <th>1</th>\n",
       "      <td>Toyota Supra</td>\n",
       "      <td>17</td>\n",
       "    </tr>\n",
       "    <tr>\n",
       "      <th>2</th>\n",
       "      <td>Toyota Tacoma</td>\n",
       "      <td>15</td>\n",
       "    </tr>\n",
       "    <tr>\n",
       "      <th>3</th>\n",
       "      <td>Toyota Camry</td>\n",
       "      <td>16</td>\n",
       "    </tr>\n",
       "    <tr>\n",
       "      <th>4</th>\n",
       "      <td>Nissan Cube</td>\n",
       "      <td>2</td>\n",
       "    </tr>\n",
       "    <tr>\n",
       "      <th>5</th>\n",
       "      <td>Toyota Prius</td>\n",
       "      <td>11</td>\n",
       "    </tr>\n",
       "    <tr>\n",
       "      <th>6</th>\n",
       "      <td>Nissan GTR</td>\n",
       "      <td>5</td>\n",
       "    </tr>\n",
       "    <tr>\n",
       "      <th>7</th>\n",
       "      <td>Honda Accord</td>\n",
       "      <td>3</td>\n",
       "    </tr>\n",
       "    <tr>\n",
       "      <th>8</th>\n",
       "      <td>Subaru Outback</td>\n",
       "      <td>8</td>\n",
       "    </tr>\n",
       "    <tr>\n",
       "      <th>9</th>\n",
       "      <td>Kia Soul</td>\n",
       "      <td>12</td>\n",
       "    </tr>\n",
       "  </tbody>\n",
       "</table>\n",
       "</div>"
      ],
      "text/plain": [
       "                       Name  SecondsTo60\n",
       "0  Oscar Mayer Weinermobile            4\n",
       "1              Toyota Supra           17\n",
       "2             Toyota Tacoma           15\n",
       "3              Toyota Camry           16\n",
       "4               Nissan Cube            2\n",
       "5              Toyota Prius           11\n",
       "6                Nissan GTR            5\n",
       "7              Honda Accord            3\n",
       "8            Subaru Outback            8\n",
       "9                  Kia Soul           12"
      ]
     },
     "execution_count": 73,
     "metadata": {},
     "output_type": "execute_result"
    }
   ],
   "source": [
    "df2 = pd.DataFrame({'Name':sample_wo_rep(cars, 10),'SecondsTo60':rd.sample(range(1,20), 10)})\n",
    "df2"
   ]
  },
  {
   "cell_type": "markdown",
   "id": "387b8e2a-54e6-4c8a-9843-efb1c432b63f",
   "metadata": {},
   "source": [
    "#### c."
   ]
  },
  {
   "cell_type": "code",
   "execution_count": 74,
   "id": "17853d1b-e35d-4db1-94e3-74a82d6f7bf8",
   "metadata": {
    "tags": []
   },
   "outputs": [
    {
     "data": {
      "text/html": [
       "<div>\n",
       "<style scoped>\n",
       "    .dataframe tbody tr th:only-of-type {\n",
       "        vertical-align: middle;\n",
       "    }\n",
       "\n",
       "    .dataframe tbody tr th {\n",
       "        vertical-align: top;\n",
       "    }\n",
       "\n",
       "    .dataframe thead th {\n",
       "        text-align: right;\n",
       "    }\n",
       "</style>\n",
       "<table border=\"1\" class=\"dataframe\">\n",
       "  <thead>\n",
       "    <tr style=\"text-align: right;\">\n",
       "      <th></th>\n",
       "      <th>Name</th>\n",
       "      <th>MPG</th>\n",
       "      <th>SecondsTo60</th>\n",
       "    </tr>\n",
       "  </thead>\n",
       "  <tbody>\n",
       "    <tr>\n",
       "      <th>0</th>\n",
       "      <td>Toyota Supra</td>\n",
       "      <td>37.0</td>\n",
       "      <td>17.0</td>\n",
       "    </tr>\n",
       "    <tr>\n",
       "      <th>1</th>\n",
       "      <td>Fiat 500</td>\n",
       "      <td>20.0</td>\n",
       "      <td>NaN</td>\n",
       "    </tr>\n",
       "    <tr>\n",
       "      <th>2</th>\n",
       "      <td>Volkswagon Beetle</td>\n",
       "      <td>46.0</td>\n",
       "      <td>NaN</td>\n",
       "    </tr>\n",
       "    <tr>\n",
       "      <th>3</th>\n",
       "      <td>Kia Soul</td>\n",
       "      <td>44.0</td>\n",
       "      <td>12.0</td>\n",
       "    </tr>\n",
       "    <tr>\n",
       "      <th>4</th>\n",
       "      <td>Toyota Camry</td>\n",
       "      <td>11.0</td>\n",
       "      <td>16.0</td>\n",
       "    </tr>\n",
       "    <tr>\n",
       "      <th>5</th>\n",
       "      <td>Nissan Quest</td>\n",
       "      <td>48.0</td>\n",
       "      <td>NaN</td>\n",
       "    </tr>\n",
       "    <tr>\n",
       "      <th>6</th>\n",
       "      <td>Subaru Outback</td>\n",
       "      <td>6.0</td>\n",
       "      <td>8.0</td>\n",
       "    </tr>\n",
       "    <tr>\n",
       "      <th>7</th>\n",
       "      <td>Smart Car</td>\n",
       "      <td>27.0</td>\n",
       "      <td>NaN</td>\n",
       "    </tr>\n",
       "    <tr>\n",
       "      <th>8</th>\n",
       "      <td>Toyota Prius</td>\n",
       "      <td>7.0</td>\n",
       "      <td>11.0</td>\n",
       "    </tr>\n",
       "    <tr>\n",
       "      <th>9</th>\n",
       "      <td>Nissan GTR</td>\n",
       "      <td>47.0</td>\n",
       "      <td>5.0</td>\n",
       "    </tr>\n",
       "    <tr>\n",
       "      <th>10</th>\n",
       "      <td>Oscar Mayer Weinermobile</td>\n",
       "      <td>NaN</td>\n",
       "      <td>4.0</td>\n",
       "    </tr>\n",
       "    <tr>\n",
       "      <th>11</th>\n",
       "      <td>Toyota Tacoma</td>\n",
       "      <td>NaN</td>\n",
       "      <td>15.0</td>\n",
       "    </tr>\n",
       "    <tr>\n",
       "      <th>12</th>\n",
       "      <td>Nissan Cube</td>\n",
       "      <td>NaN</td>\n",
       "      <td>2.0</td>\n",
       "    </tr>\n",
       "    <tr>\n",
       "      <th>13</th>\n",
       "      <td>Honda Accord</td>\n",
       "      <td>NaN</td>\n",
       "      <td>3.0</td>\n",
       "    </tr>\n",
       "  </tbody>\n",
       "</table>\n",
       "</div>"
      ],
      "text/plain": [
       "                        Name   MPG  SecondsTo60\n",
       "0               Toyota Supra  37.0         17.0\n",
       "1                   Fiat 500  20.0          NaN\n",
       "2          Volkswagon Beetle  46.0          NaN\n",
       "3                   Kia Soul  44.0         12.0\n",
       "4               Toyota Camry  11.0         16.0\n",
       "5               Nissan Quest  48.0          NaN\n",
       "6             Subaru Outback   6.0          8.0\n",
       "7                  Smart Car  27.0          NaN\n",
       "8               Toyota Prius   7.0         11.0\n",
       "9                 Nissan GTR  47.0          5.0\n",
       "10  Oscar Mayer Weinermobile   NaN          4.0\n",
       "11             Toyota Tacoma   NaN         15.0\n",
       "12               Nissan Cube   NaN          2.0\n",
       "13              Honda Accord   NaN          3.0"
      ]
     },
     "execution_count": 74,
     "metadata": {},
     "output_type": "execute_result"
    }
   ],
   "source": [
    "df = df1.merge(df2, on='Name', how='outer')\n",
    "df"
   ]
  },
  {
   "cell_type": "markdown",
   "id": "36c83f1e-4b08-4b70-bb4f-553adcaa2580",
   "metadata": {},
   "source": [
    "#### d."
   ]
  },
  {
   "cell_type": "code",
   "execution_count": 75,
   "id": "f0b4c4ec-eadf-4b6b-88da-323b8e78e0be",
   "metadata": {
    "tags": []
   },
   "outputs": [
    {
     "data": {
      "text/html": [
       "<div>\n",
       "<style scoped>\n",
       "    .dataframe tbody tr th:only-of-type {\n",
       "        vertical-align: middle;\n",
       "    }\n",
       "\n",
       "    .dataframe tbody tr th {\n",
       "        vertical-align: top;\n",
       "    }\n",
       "\n",
       "    .dataframe thead th {\n",
       "        text-align: right;\n",
       "    }\n",
       "</style>\n",
       "<table border=\"1\" class=\"dataframe\">\n",
       "  <thead>\n",
       "    <tr style=\"text-align: right;\">\n",
       "      <th></th>\n",
       "      <th>Name</th>\n",
       "      <th>MPG</th>\n",
       "      <th>SecondsTo60</th>\n",
       "    </tr>\n",
       "  </thead>\n",
       "  <tbody>\n",
       "    <tr>\n",
       "      <th>0</th>\n",
       "      <td>Toyota Supra</td>\n",
       "      <td>37.0</td>\n",
       "      <td>17.0</td>\n",
       "    </tr>\n",
       "    <tr>\n",
       "      <th>1</th>\n",
       "      <td>Fiat 500</td>\n",
       "      <td>20.0</td>\n",
       "      <td>17.0</td>\n",
       "    </tr>\n",
       "    <tr>\n",
       "      <th>2</th>\n",
       "      <td>Volkswagon Beetle</td>\n",
       "      <td>46.0</td>\n",
       "      <td>17.0</td>\n",
       "    </tr>\n",
       "    <tr>\n",
       "      <th>3</th>\n",
       "      <td>Kia Soul</td>\n",
       "      <td>44.0</td>\n",
       "      <td>12.0</td>\n",
       "    </tr>\n",
       "    <tr>\n",
       "      <th>4</th>\n",
       "      <td>Toyota Camry</td>\n",
       "      <td>11.0</td>\n",
       "      <td>16.0</td>\n",
       "    </tr>\n",
       "    <tr>\n",
       "      <th>5</th>\n",
       "      <td>Nissan Quest</td>\n",
       "      <td>48.0</td>\n",
       "      <td>17.0</td>\n",
       "    </tr>\n",
       "    <tr>\n",
       "      <th>6</th>\n",
       "      <td>Subaru Outback</td>\n",
       "      <td>6.0</td>\n",
       "      <td>8.0</td>\n",
       "    </tr>\n",
       "    <tr>\n",
       "      <th>7</th>\n",
       "      <td>Smart Car</td>\n",
       "      <td>27.0</td>\n",
       "      <td>17.0</td>\n",
       "    </tr>\n",
       "    <tr>\n",
       "      <th>8</th>\n",
       "      <td>Toyota Prius</td>\n",
       "      <td>7.0</td>\n",
       "      <td>11.0</td>\n",
       "    </tr>\n",
       "    <tr>\n",
       "      <th>9</th>\n",
       "      <td>Nissan GTR</td>\n",
       "      <td>47.0</td>\n",
       "      <td>5.0</td>\n",
       "    </tr>\n",
       "    <tr>\n",
       "      <th>10</th>\n",
       "      <td>Oscar Mayer Weinermobile</td>\n",
       "      <td>29.3</td>\n",
       "      <td>4.0</td>\n",
       "    </tr>\n",
       "    <tr>\n",
       "      <th>11</th>\n",
       "      <td>Toyota Tacoma</td>\n",
       "      <td>29.3</td>\n",
       "      <td>15.0</td>\n",
       "    </tr>\n",
       "    <tr>\n",
       "      <th>12</th>\n",
       "      <td>Nissan Cube</td>\n",
       "      <td>29.3</td>\n",
       "      <td>2.0</td>\n",
       "    </tr>\n",
       "    <tr>\n",
       "      <th>13</th>\n",
       "      <td>Honda Accord</td>\n",
       "      <td>29.3</td>\n",
       "      <td>3.0</td>\n",
       "    </tr>\n",
       "  </tbody>\n",
       "</table>\n",
       "</div>"
      ],
      "text/plain": [
       "                        Name   MPG  SecondsTo60\n",
       "0               Toyota Supra  37.0         17.0\n",
       "1                   Fiat 500  20.0         17.0\n",
       "2          Volkswagon Beetle  46.0         17.0\n",
       "3                   Kia Soul  44.0         12.0\n",
       "4               Toyota Camry  11.0         16.0\n",
       "5               Nissan Quest  48.0         17.0\n",
       "6             Subaru Outback   6.0          8.0\n",
       "7                  Smart Car  27.0         17.0\n",
       "8               Toyota Prius   7.0         11.0\n",
       "9                 Nissan GTR  47.0          5.0\n",
       "10  Oscar Mayer Weinermobile  29.3          4.0\n",
       "11             Toyota Tacoma  29.3         15.0\n",
       "12               Nissan Cube  29.3          2.0\n",
       "13              Honda Accord  29.3          3.0"
      ]
     },
     "execution_count": 75,
     "metadata": {},
     "output_type": "execute_result"
    }
   ],
   "source": [
    "df['MPG']=df['MPG'].fillna(value=df['MPG'].mean())\n",
    "df['SecondsTo60']=df['SecondsTo60'].fillna(value=df['SecondsTo60'].max())\n",
    "df"
   ]
  },
  {
   "cell_type": "markdown",
   "id": "02dd0fdd-f236-4042-9501-6cad6a38a849",
   "metadata": {},
   "source": [
    "#### e."
   ]
  },
  {
   "cell_type": "code",
   "execution_count": 76,
   "id": "b8a46102-6973-41d1-a820-1e3eb32b488d",
   "metadata": {
    "tags": []
   },
   "outputs": [
    {
     "data": {
      "text/html": [
       "<div>\n",
       "<style scoped>\n",
       "    .dataframe tbody tr th:only-of-type {\n",
       "        vertical-align: middle;\n",
       "    }\n",
       "\n",
       "    .dataframe tbody tr th {\n",
       "        vertical-align: top;\n",
       "    }\n",
       "\n",
       "    .dataframe thead th {\n",
       "        text-align: right;\n",
       "    }\n",
       "</style>\n",
       "<table border=\"1\" class=\"dataframe\">\n",
       "  <thead>\n",
       "    <tr style=\"text-align: right;\">\n",
       "      <th></th>\n",
       "      <th>Name</th>\n",
       "      <th>MPG</th>\n",
       "      <th>SecondsTo60</th>\n",
       "    </tr>\n",
       "  </thead>\n",
       "  <tbody>\n",
       "    <tr>\n",
       "      <th>0</th>\n",
       "      <td>Awesome Toyota Supra</td>\n",
       "      <td>37.0</td>\n",
       "      <td>17.0</td>\n",
       "    </tr>\n",
       "    <tr>\n",
       "      <th>1</th>\n",
       "      <td>Awesome Fiat 500</td>\n",
       "      <td>20.0</td>\n",
       "      <td>17.0</td>\n",
       "    </tr>\n",
       "    <tr>\n",
       "      <th>2</th>\n",
       "      <td>Awesome Volkswagon Beetle</td>\n",
       "      <td>46.0</td>\n",
       "      <td>17.0</td>\n",
       "    </tr>\n",
       "    <tr>\n",
       "      <th>3</th>\n",
       "      <td>Awesome Kia Soul</td>\n",
       "      <td>44.0</td>\n",
       "      <td>12.0</td>\n",
       "    </tr>\n",
       "    <tr>\n",
       "      <th>4</th>\n",
       "      <td>Awesome Toyota Camry</td>\n",
       "      <td>11.0</td>\n",
       "      <td>16.0</td>\n",
       "    </tr>\n",
       "    <tr>\n",
       "      <th>5</th>\n",
       "      <td>Awesome Nissan Quest</td>\n",
       "      <td>48.0</td>\n",
       "      <td>17.0</td>\n",
       "    </tr>\n",
       "    <tr>\n",
       "      <th>6</th>\n",
       "      <td>Awesome Subaru Outback</td>\n",
       "      <td>6.0</td>\n",
       "      <td>8.0</td>\n",
       "    </tr>\n",
       "    <tr>\n",
       "      <th>7</th>\n",
       "      <td>Awesome Smart Car</td>\n",
       "      <td>27.0</td>\n",
       "      <td>17.0</td>\n",
       "    </tr>\n",
       "    <tr>\n",
       "      <th>8</th>\n",
       "      <td>Awesome Toyota Prius</td>\n",
       "      <td>7.0</td>\n",
       "      <td>11.0</td>\n",
       "    </tr>\n",
       "    <tr>\n",
       "      <th>9</th>\n",
       "      <td>Awesome Nissan GTR</td>\n",
       "      <td>47.0</td>\n",
       "      <td>5.0</td>\n",
       "    </tr>\n",
       "    <tr>\n",
       "      <th>10</th>\n",
       "      <td>Awesome Oscar Mayer Weinermobile</td>\n",
       "      <td>29.3</td>\n",
       "      <td>4.0</td>\n",
       "    </tr>\n",
       "    <tr>\n",
       "      <th>11</th>\n",
       "      <td>Awesome Toyota Tacoma</td>\n",
       "      <td>29.3</td>\n",
       "      <td>15.0</td>\n",
       "    </tr>\n",
       "    <tr>\n",
       "      <th>12</th>\n",
       "      <td>Awesome Nissan Cube</td>\n",
       "      <td>29.3</td>\n",
       "      <td>2.0</td>\n",
       "    </tr>\n",
       "    <tr>\n",
       "      <th>13</th>\n",
       "      <td>Awesome Honda Accord</td>\n",
       "      <td>29.3</td>\n",
       "      <td>3.0</td>\n",
       "    </tr>\n",
       "  </tbody>\n",
       "</table>\n",
       "</div>"
      ],
      "text/plain": [
       "                                Name   MPG  SecondsTo60\n",
       "0               Awesome Toyota Supra  37.0         17.0\n",
       "1                   Awesome Fiat 500  20.0         17.0\n",
       "2          Awesome Volkswagon Beetle  46.0         17.0\n",
       "3                   Awesome Kia Soul  44.0         12.0\n",
       "4               Awesome Toyota Camry  11.0         16.0\n",
       "5               Awesome Nissan Quest  48.0         17.0\n",
       "6             Awesome Subaru Outback   6.0          8.0\n",
       "7                  Awesome Smart Car  27.0         17.0\n",
       "8               Awesome Toyota Prius   7.0         11.0\n",
       "9                 Awesome Nissan GTR  47.0          5.0\n",
       "10  Awesome Oscar Mayer Weinermobile  29.3          4.0\n",
       "11             Awesome Toyota Tacoma  29.3         15.0\n",
       "12               Awesome Nissan Cube  29.3          2.0\n",
       "13              Awesome Honda Accord  29.3          3.0"
      ]
     },
     "execution_count": 76,
     "metadata": {},
     "output_type": "execute_result"
    }
   ],
   "source": [
    "df['Name'] = 'Awesome ' + df['Name']\n",
    "df"
   ]
  },
  {
   "cell_type": "markdown",
   "id": "31f59256-91a1-4e36-a9b0-362900dfd757",
   "metadata": {},
   "source": [
    "#### f."
   ]
  },
  {
   "cell_type": "code",
   "execution_count": 77,
   "id": "c349ae9a-e98a-4618-b1f7-9b3019e058c1",
   "metadata": {
    "tags": []
   },
   "outputs": [
    {
     "data": {
      "text/html": [
       "<div>\n",
       "<style scoped>\n",
       "    .dataframe tbody tr th:only-of-type {\n",
       "        vertical-align: middle;\n",
       "    }\n",
       "\n",
       "    .dataframe tbody tr th {\n",
       "        vertical-align: top;\n",
       "    }\n",
       "\n",
       "    .dataframe thead th {\n",
       "        text-align: right;\n",
       "    }\n",
       "</style>\n",
       "<table border=\"1\" class=\"dataframe\">\n",
       "  <thead>\n",
       "    <tr style=\"text-align: right;\">\n",
       "      <th></th>\n",
       "      <th>Name</th>\n",
       "      <th>MPG</th>\n",
       "      <th>SecondsTo60</th>\n",
       "    </tr>\n",
       "  </thead>\n",
       "  <tbody>\n",
       "    <tr>\n",
       "      <th>0</th>\n",
       "      <td>Awesome Toyota Supra</td>\n",
       "      <td>37.0</td>\n",
       "      <td>17.0</td>\n",
       "    </tr>\n",
       "    <tr>\n",
       "      <th>2</th>\n",
       "      <td>Awesome Volkswagon Beetle</td>\n",
       "      <td>46.0</td>\n",
       "      <td>17.0</td>\n",
       "    </tr>\n",
       "    <tr>\n",
       "      <th>3</th>\n",
       "      <td>Awesome Kia Soul</td>\n",
       "      <td>44.0</td>\n",
       "      <td>12.0</td>\n",
       "    </tr>\n",
       "    <tr>\n",
       "      <th>5</th>\n",
       "      <td>Awesome Nissan Quest</td>\n",
       "      <td>48.0</td>\n",
       "      <td>17.0</td>\n",
       "    </tr>\n",
       "    <tr>\n",
       "      <th>9</th>\n",
       "      <td>Awesome Nissan GTR</td>\n",
       "      <td>47.0</td>\n",
       "      <td>5.0</td>\n",
       "    </tr>\n",
       "  </tbody>\n",
       "</table>\n",
       "</div>"
      ],
      "text/plain": [
       "                        Name   MPG  SecondsTo60\n",
       "0       Awesome Toyota Supra  37.0         17.0\n",
       "2  Awesome Volkswagon Beetle  46.0         17.0\n",
       "3           Awesome Kia Soul  44.0         12.0\n",
       "5       Awesome Nissan Quest  48.0         17.0\n",
       "9         Awesome Nissan GTR  47.0          5.0"
      ]
     },
     "execution_count": 77,
     "metadata": {},
     "output_type": "execute_result"
    }
   ],
   "source": [
    "df_eco = df[df['MPG'] > df['MPG'].median()]\n",
    "df_eco"
   ]
  },
  {
   "cell_type": "markdown",
   "id": "a7a8f880-0127-45e7-a81a-50d2e5fa004f",
   "metadata": {},
   "source": [
    "# Question 2"
   ]
  },
  {
   "cell_type": "code",
   "execution_count": 43,
   "id": "aed08d6f-8f2c-4b69-b0c3-40eefab2ae59",
   "metadata": {},
   "outputs": [
    {
     "data": {
      "text/plain": [
       "[57.5, 112.5, 245.0]"
      ]
     },
     "execution_count": 43,
     "metadata": {},
     "output_type": "execute_result"
    }
   ],
   "source": [
    "import pandas as pd\n",
    "import numpy as np\n",
    "ingredientsdf = pd.read_csv('ingredientslist.csv')\n",
    "ingredients = ingredientsdf.iloc[0].to_list()\n",
    "\n",
    "ingredients"
   ]
  },
  {
   "cell_type": "code",
   "execution_count": 44,
   "id": "13e08f6c-36af-4a65-9ef5-c6daa41075ef",
   "metadata": {},
   "outputs": [
    {
     "data": {
      "text/html": [
       "<div>\n",
       "<style scoped>\n",
       "    .dataframe tbody tr th:only-of-type {\n",
       "        vertical-align: middle;\n",
       "    }\n",
       "\n",
       "    .dataframe tbody tr th {\n",
       "        vertical-align: top;\n",
       "    }\n",
       "\n",
       "    .dataframe thead th {\n",
       "        text-align: right;\n",
       "    }\n",
       "</style>\n",
       "<table border=\"1\" class=\"dataframe\">\n",
       "  <thead>\n",
       "    <tr style=\"text-align: right;\">\n",
       "      <th></th>\n",
       "      <th>Name</th>\n",
       "      <th>Price</th>\n",
       "      <th>Yeast</th>\n",
       "      <th>Flour</th>\n",
       "      <th>Sugar</th>\n",
       "    </tr>\n",
       "  </thead>\n",
       "  <tbody>\n",
       "    <tr>\n",
       "      <th>0</th>\n",
       "      <td>Apple Pie</td>\n",
       "      <td>2.99</td>\n",
       "      <td>0.00</td>\n",
       "      <td>0.75</td>\n",
       "      <td>1.50</td>\n",
       "    </tr>\n",
       "    <tr>\n",
       "      <th>1</th>\n",
       "      <td>Croissant</td>\n",
       "      <td>2.50</td>\n",
       "      <td>0.50</td>\n",
       "      <td>1.50</td>\n",
       "      <td>0.25</td>\n",
       "    </tr>\n",
       "    <tr>\n",
       "      <th>2</th>\n",
       "      <td>Poppy seed roll</td>\n",
       "      <td>5.99</td>\n",
       "      <td>1.15</td>\n",
       "      <td>1.50</td>\n",
       "      <td>0.75</td>\n",
       "    </tr>\n",
       "  </tbody>\n",
       "</table>\n",
       "</div>"
      ],
      "text/plain": [
       "              Name  Price  Yeast  Flour  Sugar\n",
       "0        Apple Pie   2.99   0.00   0.75   1.50\n",
       "1        Croissant   2.50   0.50   1.50   0.25\n",
       "2  Poppy seed roll   5.99   1.15   1.50   0.75"
      ]
     },
     "execution_count": 44,
     "metadata": {},
     "output_type": "execute_result"
    }
   ],
   "source": [
    "goods = pd.read_csv('goodslist.csv')\n",
    "goods"
   ]
  },
  {
   "cell_type": "code",
   "execution_count": 74,
   "id": "a847dc73-16ec-4934-a651-d857e3e77348",
   "metadata": {
    "tags": []
   },
   "outputs": [
    {
     "data": {
      "text/plain": [
       "[-2.99, -2.5, -5.99]"
      ]
     },
     "execution_count": 74,
     "metadata": {},
     "output_type": "execute_result"
    }
   ],
   "source": [
    "cost = goods['Price'].to_list()\n",
    "minus = -1\n",
    "cost = [minus * i for i in cost] #linprog by default minimizes the solution, but since I want the maximum solution I should make my equation negative\n",
    "cost"
   ]
  },
  {
   "cell_type": "code",
   "execution_count": 75,
   "id": "05759462-503a-40db-9e87-4d2f4cdc6920",
   "metadata": {
    "tags": []
   },
   "outputs": [
    {
     "data": {
      "text/plain": [
       "(array([[0.  , 0.5 , 1.15],\n",
       "        [0.75, 1.5 , 1.5 ],\n",
       "        [1.5 , 0.25, 0.75]]),\n",
       " [57.5, 112.5, 245.0])"
      ]
     },
     "execution_count": 75,
     "metadata": {},
     "output_type": "execute_result"
    }
   ],
   "source": [
    "A_ub = np.array([[0., .5, 1.15],[.75,1.5,1.5],[1.5,.25,.75]])\n",
    "b_ub = ingredients\n",
    "A_ub, b_ub"
   ]
  },
  {
   "cell_type": "code",
   "execution_count": 76,
   "id": "73f392b8-8971-4898-9a1a-859aaa4c09c0",
   "metadata": {
    "tags": []
   },
   "outputs": [
    {
     "data": {
      "text/plain": [
       "[(0, None), (0, None), (0, None)]"
      ]
     },
     "execution_count": 76,
     "metadata": {},
     "output_type": "execute_result"
    }
   ],
   "source": [
    "bounds = [(0, None) for i in range(3)]\n",
    "bounds"
   ]
  },
  {
   "cell_type": "code",
   "execution_count": 82,
   "id": "6aec43e4-95ee-4b65-82ad-9ed953a4ebf7",
   "metadata": {
    "tags": []
   },
   "outputs": [
    {
     "name": "stdout",
     "output_type": "stream",
     "text": [
      "status = 0 iters = 2 profit = 449.0 \n",
      "x=\n",
      " [50.  0. 50.]\n"
     ]
    }
   ],
   "source": [
    "from scipy.optimize import linprog\n",
    "solution = linprog(cost, A_ub=A_ub, b_ub=b_ub, bounds=bounds)\n",
    "print('status =',solution.status,'iters =',solution.nit,'profit =',-solution.fun,'\\nx=\\n',solution.x)"
   ]
  },
  {
   "cell_type": "code",
   "execution_count": 85,
   "id": "b2344f58-e451-4688-8f5e-ab9b1b96b9ac",
   "metadata": {
    "tags": []
   },
   "outputs": [
    {
     "name": "stdout",
     "output_type": "stream",
     "text": [
      "The max profit is 449.0 and can be achieved by producing:\n",
      "* Apple Pie: 50.00000000000001 pieces\n",
      "* Poppy seed roll: 50.0 pieces\n"
     ]
    }
   ],
   "source": [
    "print('The max profit is',-solution.fun,'and can be achieved by producing:\\n* Apple Pie:',solution.x[0],'pieces\\n* Poppy seed roll:',\\\n",
    "      solution.x[2],'pieces'\n",
    "     )"
   ]
  },
  {
   "cell_type": "markdown",
   "id": "0d2e4040-dc5f-4497-b5fb-ca1dd55307e9",
   "metadata": {},
   "source": [
    "This code was inspired by an article linked below, which walked me through a linear programming minimization problem. I followed the blueprint given there, except flipping the signs of all the values since I was doing a maximization problem instead. To find this solution, I had to set up the problem as a system of equations. The linear objective function that I wanted to maximize was given by the prices of each of the pastries, which had to be multiplied by -1 since I was doing a maximization. I then wrote out a system of linear equations that represented the amount of each ingredient that each pastry required, along with the maximum amount of each ingredient used. There were 3 equations, representing each ingredient, shown by the coefficients in the matrix A_ub. The constraint vector is shown by the vector b_ub. Then, I passed all this to the linprog function to get my maximum profit and the amount of each pastry that would be made."
   ]
  },
  {
   "cell_type": "markdown",
   "id": "976d7c1e-c192-437e-b725-06b277b3c87a",
   "metadata": {},
   "source": [
    "article used linked here: https://www.educative.io/answers/what-is-optimizelinprog-in-scipy"
   ]
  }
 ],
 "metadata": {
  "kernelspec": {
   "display_name": "Python 3 (ipykernel)",
   "language": "python",
   "name": "python3"
  },
  "language_info": {
   "codemirror_mode": {
    "name": "ipython",
    "version": 3
   },
   "file_extension": ".py",
   "mimetype": "text/x-python",
   "name": "python",
   "nbconvert_exporter": "python",
   "pygments_lexer": "ipython3",
   "version": "3.11.5"
  }
 },
 "nbformat": 4,
 "nbformat_minor": 5
}
